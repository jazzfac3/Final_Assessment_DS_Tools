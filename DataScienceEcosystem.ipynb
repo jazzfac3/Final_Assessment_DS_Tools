{
 "cells": [
  {
   "cell_type": "markdown",
   "id": "02227567-2c37-42d6-928e-6eb48bc43ae8",
   "metadata": {},
   "source": [
    "# Data Science Tools and Ecosystem"
   ]
  },
  {
   "cell_type": "markdown",
   "id": "5c60167e-e88c-4a85-9d89-64eff804605d",
   "metadata": {},
   "source": [
    "### In this notebook, Data Science Tools and Ecosystem are summarized."
   ]
  },
  {
   "cell_type": "markdown",
   "id": "37085d4e-3f17-4ecf-833b-6645906219c4",
   "metadata": {},
   "source": [
    "### **Objectives**:\n",
    "\n",
    "- list popular languages that Data Scientists use\n",
    "- list some of the commonly used libraries used by Data Scientists\n",
    "- indicate 3 development environment open source tools used in data science\n",
    "- exemplify a few arithmetic expressions"
   ]
  },
  {
   "cell_type": "markdown",
   "id": "6fe48dc0-4201-4685-9b5a-7a0084808630",
   "metadata": {},
   "source": [
    "### Some of the popular languages that Data Scientists use are:\n",
    "\n",
    "1. Python\n",
    "2. R\n",
    "3. SQL\n",
    "4. Java\n",
    "5. Scala\n",
    "6. C++\n",
    "7. JavaScript\n",
    "8. Julia"
   ]
  },
  {
   "cell_type": "markdown",
   "id": "704513b2-ab38-44d6-ab00-07b835380698",
   "metadata": {},
   "source": [
    "### Some of the commonly used libraries used by Data Scientists include:\n",
    "\n",
    "1. Numpy\n",
    "2. Matplotlib\n",
    "3. Seaborn\n",
    "4. Scikit"
   ]
  },
  {
   "cell_type": "markdown",
   "id": "073b3f20-8db0-4780-8f40-535c797d200a",
   "metadata": {},
   "source": [
    "|Data Science Tools|\n",
    "|------------------|\n",
    "|Jupyter Lab|\n",
    "|VS Code|\n",
    "|Jupyter Lite|"
   ]
  },
  {
   "cell_type": "markdown",
   "id": "379caed2-85a6-4669-87b8-616a0a5c712f",
   "metadata": {},
   "source": [
    "### Below are a few examples of evaluating arithmetic expressions in Python."
   ]
  },
  {
   "cell_type": "code",
   "execution_count": 13,
   "id": "de4d22f9-c719-445e-b878-a1fd8c5e8723",
   "metadata": {},
   "outputs": [
    {
     "data": {
      "text/plain": [
       "17"
      ]
     },
     "execution_count": 13,
     "metadata": {},
     "output_type": "execute_result"
    }
   ],
   "source": [
    "# This a simple arithmetic expression to mutiply then add integers\n",
    "(3*4)+5"
   ]
  },
  {
   "cell_type": "code",
   "execution_count": 28,
   "id": "86c084b9-f0cd-42e1-88fb-2cd10583d94b",
   "metadata": {},
   "outputs": [
    {
     "name": "stdout",
     "output_type": "stream",
     "text": [
      "3.3333333333333335\n"
     ]
    }
   ],
   "source": [
    "# This will convert 200 minutes to hours by dividing by 60 - first method\n",
    "x = 200\n",
    "y = 60\n",
    "print(x/y)"
   ]
  },
  {
   "cell_type": "code",
   "execution_count": 27,
   "id": "d434cc97-15b0-40d7-96b2-bf293343c1b1",
   "metadata": {},
   "outputs": [
    {
     "name": "stdout",
     "output_type": "stream",
     "text": [
      "3:20\n"
     ]
    }
   ],
   "source": [
    "# This will convert 200 minutes to hours by dividing by 60 - second method\n",
    "total_minutes = 200\n",
    "\n",
    "# Calculate no of hours by division\n",
    "hours = total_minutes // 60\n",
    "\n",
    "# Get additional minutes after division\n",
    "minutes = total_minutes % 60\n",
    "\n",
    "# Create time as a string\n",
    "time_string = \"{}:{}\".format(hours, minutes)\n",
    "\n",
    "print (time_string)"
   ]
  },
  {
   "cell_type": "markdown",
   "id": "ec481e8b-5e0c-4f89-b82a-66598ebe6852",
   "metadata": {},
   "source": [
    "## Author\n",
    "Elena Anitei"
   ]
  },
  {
   "cell_type": "code",
   "execution_count": null,
   "id": "2ede5966-8067-4cd8-a244-fc9682b3eb78",
   "metadata": {},
   "outputs": [],
   "source": []
  }
 ],
 "metadata": {
  "kernelspec": {
   "display_name": "Python 3 (ipykernel)",
   "language": "python",
   "name": "python3"
  },
  "language_info": {
   "codemirror_mode": {
    "name": "ipython",
    "version": 3
   },
   "file_extension": ".py",
   "mimetype": "text/x-python",
   "name": "python",
   "nbconvert_exporter": "python",
   "pygments_lexer": "ipython3",
   "version": "3.12.4"
  }
 },
 "nbformat": 4,
 "nbformat_minor": 5
}
